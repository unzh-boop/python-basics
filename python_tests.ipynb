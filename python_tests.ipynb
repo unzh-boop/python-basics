{
  "nbformat": 4,
  "nbformat_minor": 0,
  "metadata": {
    "colab": {
      "name": "python tests.ipynb",
      "provenance": [],
      "collapsed_sections": [],
      "authorship_tag": "ABX9TyPtAGGVpV7ThXfyqV+TSmVH",
      "include_colab_link": true
    },
    "kernelspec": {
      "name": "python3",
      "display_name": "Python 3"
    },
    "language_info": {
      "name": "python"
    }
  },
  "cells": [
    {
      "cell_type": "markdown",
      "metadata": {
        "id": "view-in-github",
        "colab_type": "text"
      },
      "source": [
        "<a href=\"https://colab.research.google.com/github/unzh-boop/python-basics/blob/main/python_tests.ipynb\" target=\"_parent\"><img src=\"https://colab.research.google.com/assets/colab-badge.svg\" alt=\"Open In Colab\"/></a>"
      ]
    },
    {
      "cell_type": "code",
      "metadata": {
        "colab": {
          "base_uri": "https://localhost:8080/"
        },
        "id": "1CI-fycm-9UM",
        "outputId": "b041e509-89af-45ef-c4f2-b9804a0ca880"
      },
      "source": [
        "price = int(input(\"Enter price:\"))\n",
        "if price > 100:\n",
        "  discount = 0.20\n",
        "else:\n",
        "  discount = 0.10\n",
        "D = discount*price\n",
        "print(\"Price:\" ,price)\n",
        "print(\"Disocunt: \" ,D)\n",
        "print(\"net price \" ,price-D)\n",
        "\n"
      ],
      "execution_count": 7,
      "outputs": [
        {
          "output_type": "stream",
          "text": [
            "Enter price:10\n",
            "Price: 10\n",
            "Disocunt:  1.0\n",
            "net price  9.0\n"
          ],
          "name": "stdout"
        }
      ]
    },
    {
      "cell_type": "code",
      "metadata": {
        "colab": {
          "base_uri": "https://localhost:8080/"
        },
        "id": "bDXd5cmtBhOm",
        "outputId": "451b431f-c8ab-4c49-cca4-5a96b9b24954"
      },
      "source": [
        "no_of_f_worker = int(input(\"Enter foriegn worker:\"))\n",
        "no_of_l_worker = int(input(\"Enter local worker:\"))\n",
        "no_of_p_worker = int(input(\"Enter parttime worker:\"))\n",
        "companyID = input(\"ID\")\n",
        "rate = int(input(\"daiy rate\"))\n",
        "tax = int(input(\"Tax incentive\"))\n",
        "\n",
        "total = no_of_f_worker + no_of_l_worker + no_of_p_worker\n",
        "salary = (total * rate) - tax\n",
        "\n",
        "\n",
        "print(\"Company ID:\" ,companyID)\n",
        "print(\"Total Worker: \" ,total)\n",
        "print(\"Total salary \" ,salary)\n",
        "\n"
      ],
      "execution_count": 10,
      "outputs": [
        {
          "output_type": "stream",
          "text": [
            "Enter foriegn worker:1\n",
            "Enter local worker:2\n",
            "Enter parttime worker:1\n",
            "IDqq11\n",
            "daiy rate20\n",
            "Tax incentive1\n",
            "Company ID: qq11\n",
            "Total Worker:  4\n",
            "Total salary  79\n"
          ],
          "name": "stdout"
        }
      ]
    }
  ]
}